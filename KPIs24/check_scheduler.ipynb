{
 "cells": [
  {
   "cell_type": "code",
   "execution_count": null,
   "metadata": {},
   "outputs": [],
   "source": [
    "import monai\n",
    "import torch\n",
    "from monai.optimizers import WarmupCosineSchedule\n",
    "import yaml\n",
    "import matplotlib.pyplot as plt\n",
    "import numpy as np\n",
    "\n",
    "with open('/home/benito/script/NephroBIT/KPIs24/config_train_Unet.yaml', 'r') as file:\n",
    "    cfg = yaml.safe_load(file)\n",
    "\n",
    "print(cfg)\n",
    "\n",
    "device = torch.device(f\"cuda:{cfg['device_number']}\" if torch.cuda.is_available() else \"cpu\")\n",
    "\n",
    "model = monai.networks.nets.UNet(\n",
    "        spatial_dims=cfg['model']['params']['spatial_dims'],\n",
    "        in_channels=cfg['model']['params']['in_channels'],\n",
    "        out_channels=cfg['model']['params']['out_channels'],\n",
    "        channels=cfg['model']['params']['f_maps_channels'],\n",
    "        strides=cfg['model']['params']['strides'],\n",
    "        num_res_units=cfg['model']['params']['num_res_units'],\n",
    "    ).to(device)\n",
    "\n",
    "warmup_steps= int(cfg['model']['scheduler']['params']['warmup_epochs'] * 4139 / cfg['training']['train_batch_size'])\n",
    "t_total = int(cfg['training']['epoch']* 4139 / cfg['training']['train_batch_size'])\n",
    "\n",
    "optimizer = torch.optim.Adam(model.parameters(), cfg['model']['optimizer']['params']['learning_rate'])\n",
    "scheduler = WarmupCosineSchedule(optimizer, warmup_steps=warmup_steps, t_total=t_total, cycles = cfg['model']['scheduler']['params']['cycles'], end_lr=1e-9)\n",
    "lr_values = []\n",
    "for steps in range(t_total):\n",
    "    lr = scheduler.get_lr()[0]\n",
    "    lr_values.append(lr)\n",
    "    optimizer.step()\n",
    "    scheduler.step()\n",
    "plt.plot(range(t_total), lr_values, label=f'Cycle {cfg[\"model\"][\"scheduler\"][\"params\"][\"cycles\"]}')\n",
    "plt.legend()\n",
    "plt.show()"
   ]
  },
  {
   "cell_type": "code",
   "execution_count": null,
   "metadata": {},
   "outputs": [],
   "source": [
    "for cycle in np.linspace(0, 5, 11):\n",
    "    optimizer = torch.optim.Adam(model.parameters(), cfg['model']['optimizer']['params']['learning_rate'])\n",
    "    scheduler = WarmupCosineSchedule(optimizer, warmup_steps=warmup_steps, t_total=t_total, cycles = cycle+1, end_lr=1e-9)\n",
    "    lr_values = []\n",
    "    for steps in range(t_total):\n",
    "        lr = scheduler.get_lr()[0]\n",
    "        lr_values.append(lr)\n",
    "        optimizer.step()\n",
    "        scheduler.step()\n",
    "    plt.plot(range(t_total), lr_values, label=f'Cycle {cycle+1}')\n",
    "plt.legend()\n",
    "plt.show()\n",
    "    "
   ]
  },
  {
   "cell_type": "code",
   "execution_count": null,
   "metadata": {},
   "outputs": [],
   "source": [
    "warmup_steps\n"
   ]
  },
  {
   "cell_type": "code",
   "execution_count": null,
   "metadata": {},
   "outputs": [],
   "source": []
  }
 ],
 "metadata": {
  "kernelspec": {
   "display_name": "nefrobit",
   "language": "python",
   "name": "python3"
  },
  "language_info": {
   "codemirror_mode": {
    "name": "ipython",
    "version": 3
   },
   "file_extension": ".py",
   "mimetype": "text/x-python",
   "name": "python",
   "nbconvert_exporter": "python",
   "pygments_lexer": "ipython3",
   "version": "3.9.19"
  }
 },
 "nbformat": 4,
 "nbformat_minor": 2
}
