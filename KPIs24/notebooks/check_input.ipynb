{
 "cells": [
  {
   "cell_type": "code",
   "execution_count": null,
   "metadata": {},
   "outputs": [],
   "source": [
    "import sys\n",
    "sys.path.append('/home/benito/script/NephroBIT/KPIs24/utilites')\n",
    "import numpy as np\n",
    "import cv2\n",
    "from PIL import Image\n",
    "import random\n",
    "import random\n",
    "from matplotlib import pyplot as plt    \n",
    "from utilites import seed_everything, prepare_data, load_config, save_mask_jpg, show_image, get_transforms, get_model"
   ]
  },
  {
   "cell_type": "code",
   "execution_count": null,
   "metadata": {},
   "outputs": [],
   "source": [
    "datadir = [\"/mnt/atlas/data_KPIs/data/KPIs24_Training_Data/Task1_patch_level/split_small_patches_by_class/\", \"/mnt/atlas/data_KPIs/data/KPIs24_Training_Data/Task1_patch_level/pix2pix_data_augmentation_rearranged/\"]"
   ]
  },
  {
   "cell_type": "code",
   "execution_count": 31,
   "metadata": {},
   "outputs": [
    {
     "name": "stdout",
     "output_type": "stream",
     "text": [
      "Number of images: 85815\n"
     ]
    }
   ],
   "source": [
    "#get train list files\n",
    "data_list_train_original = prepare_data(datadir[0])\n",
    "data_list_train_fake = prepare_data(datadir[1])\n",
    "data_list_train = data_list_train_original + data_list_train_fake\n",
    "#shuffle the list\n",
    "random.shuffle(data_list_train)"
   ]
  },
  {
   "cell_type": "code",
   "execution_count": 32,
   "metadata": {},
   "outputs": [],
   "source": [
    "ref_mask_shape = (512, 512)\n",
    "ref_img_shape = (512, 512, 3)"
   ]
  },
  {
   "cell_type": "code",
   "execution_count": 33,
   "metadata": {},
   "outputs": [],
   "source": [
    "#read image and path in data_list_train and plot it in a subplot\n",
    "for i in range(len(data_list_train)):\n",
    "    image_path = data_list_train[i]['img']\n",
    "    mask_path = data_list_train[i]['label']\n",
    "    \n",
    "    image = Image.open(image_path).convert('RGB')\n",
    "    mask =  Image.open(mask_path)\n",
    "    if np.array(image).shape != ref_img_shape:\n",
    "        print(f'DO NOT MATCH Image Size: {np.array(image).shape} with {ref_img_shape}')\n",
    "    if np.array(mask).shape != ref_mask_shape:\n",
    "        print(f'DO NOT MATCH Mask Size: {np.array(mask).shape} with {ref_mask_shape}')\n",
    "        \n",
    "    # print(f'Image Size: {np.array(image).shape} Mask Size: {np.array(mask).shape}')\n",
    "    # assert image is not None, f'Error: Image not found at {image_path}'\n",
    "    # assert mask is not None, f'Error: Mask not found at {mask_path}'\n",
    "    \n",
    "    # #check image and mask has the same size\n",
    "    # if 'pix2pix' in image_path:\n",
    "    #     assert np.uint8(image).shape == np.uint8(mask).shape, f'Error: Image and mask {image_path} {mask_path} should be the same size, but are {image.size} and {mask.size}'\n",
    "    # else:\n",
    "    #     assert np.uint8(image).shape == (512,512,3), f'Error Image {image_path} should be 512x512x3, but is {image.size}'\n",
    "    #     assert np.uint8(mask).shape == (512,512), f'Error Mask {mask_path} should be 512x512, but is {mask.size}'\n",
    "    \n",
    "    # fig, axs = plt.subplots(1,2, figsize=(5, 5))\n",
    "\n",
    "    # axs[0].imshow(image)\n",
    "    # axs[0].set_title('Image')\n",
    "    # axs[0].axis('off')\n",
    "    # axs[1].imshow(mask)\n",
    "    # axs[1].set_title('Mask')\n",
    "    # axs[1].axis('off')\n",
    "            \n",
    "    # plt.tight_layout()\n",
    "    # plt.show()"
   ]
  },
  {
   "cell_type": "code",
   "execution_count": null,
   "metadata": {},
   "outputs": [],
   "source": []
  }
 ],
 "metadata": {
  "kernelspec": {
   "display_name": "nefrobit",
   "language": "python",
   "name": "python3"
  },
  "language_info": {
   "codemirror_mode": {
    "name": "ipython",
    "version": 3
   },
   "file_extension": ".py",
   "mimetype": "text/x-python",
   "name": "python",
   "nbconvert_exporter": "python",
   "pygments_lexer": "ipython3",
   "version": "3.9.19"
  }
 },
 "nbformat": 4,
 "nbformat_minor": 2
}
