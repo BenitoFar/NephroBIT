{
 "cells": [
  {
   "cell_type": "code",
   "execution_count": 10,
   "metadata": {},
   "outputs": [],
   "source": [
    "from abc import ABC, abstractmethod\n",
    "import logging\n",
    "import os\n",
    "import sys\n",
    "import tempfile\n",
    "from glob import glob\n",
    "import random\n",
    "import numpy as np\n",
    "import torch\n",
    "import torch.distributed as dist\n",
    "from PIL import Image\n",
    "import matplotlib.pyplot as plt\n",
    "\n",
    "import monai\n",
    "from monai.data import create_test_image_2d, list_data_collate, decollate_batch, DataLoader, partition_dataset, CacheDataset\n",
    "from monai.apps.nuclick.transforms import SplitLabelMined\n",
    "from monai.apps import CrossValidation\n",
    "from monai.inferers import sliding_window_inference\n",
    "from monai.metrics import DiceMetric\n",
    "from monai.transforms import (\n",
    "    Activations,\n",
    "    EnsureChannelFirstd,\n",
    "    AsDiscrete,\n",
    "    Compose,\n",
    "    LoadImaged,\n",
    "    RandCropByPosNegLabeld,\n",
    "    RandRotate90d,\n",
    "    ScaleIntensityd,\n",
    "    RandTorchVisiond,\n",
    "    ScaleIntensityRangeD,\n",
    "    SelectItemsd,\n",
    "    SaveImaged,\n",
    "    OneOf,\n",
    "    MedianSmoothd,\n",
    "    AsDiscreted,\n",
    "    CastToTyped,\n",
    "    ComputeHoVerMapsd,\n",
    "    RandGaussianNoised,\n",
    "    RandFlipd,\n",
    "    RandAffined,\n",
    "    RandGaussianSmoothd,\n",
    "    CenterSpatialCropd,\n",
    ")\n",
    "from monai.handlers import (\n",
    "    MeanDice,\n",
    "    CheckpointSaver,\n",
    "    LrScheduleHandler,\n",
    "    StatsHandler,\n",
    "    TensorBoardStatsHandler,\n",
    "    ValidationHandler,\n",
    "    from_engine,\n",
    ")\n",
    "from monai.visualize import plot_2d_or_3d_image\n",
    "from monai.utils import set_determinism\n",
    "import wandb "
   ]
  },
  {
   "cell_type": "code",
   "execution_count": 11,
   "metadata": {},
   "outputs": [],
   "source": [
    "datadir = '/data/KPIs24/KPIs24 Training Data/Task1_patch_level/data/'"
   ]
  },
  {
   "cell_type": "code",
   "execution_count": 12,
   "metadata": {},
   "outputs": [],
   "source": [
    "images = sorted(glob(os.path.join(datadir, \"**/*img.jpg\"), recursive = True))[0:1]\n",
    "labels = sorted(glob(os.path.join(datadir, \"**/*mask.jpg\"), recursive = True))[0:1]"
   ]
  },
  {
   "cell_type": "code",
   "execution_count": 13,
   "metadata": {},
   "outputs": [
    {
     "data": {
      "text/plain": [
       "['/data/KPIs24/KPIs24 Training Data/Task1_patch_level/data/56Nx/12_116/img/56Nx_12_116_108_13312_5120_img.jpg',\n",
       " '/data/KPIs24/KPIs24 Training Data/Task1_patch_level/data/56Nx/12_116/img/56Nx_12_116_109_14336_5120_img.jpg',\n",
       " '/data/KPIs24/KPIs24 Training Data/Task1_patch_level/data/56Nx/12_116/img/56Nx_12_116_116_2048_6144_img.jpg',\n",
       " '/data/KPIs24/KPIs24 Training Data/Task1_patch_level/data/56Nx/12_116/img/56Nx_12_116_117_3072_6144_img.jpg',\n",
       " '/data/KPIs24/KPIs24 Training Data/Task1_patch_level/data/56Nx/12_116/img/56Nx_12_116_118_4096_6144_img.jpg',\n",
       " '/data/KPIs24/KPIs24 Training Data/Task1_patch_level/data/56Nx/12_116/img/56Nx_12_116_120_6144_6144_img.jpg',\n",
       " '/data/KPIs24/KPIs24 Training Data/Task1_patch_level/data/56Nx/12_116/img/56Nx_12_116_122_8192_6144_img.jpg',\n",
       " '/data/KPIs24/KPIs24 Training Data/Task1_patch_level/data/56Nx/12_116/img/56Nx_12_116_123_9216_6144_img.jpg',\n",
       " '/data/KPIs24/KPIs24 Training Data/Task1_patch_level/data/56Nx/12_116/img/56Nx_12_116_124_10240_6144_img.jpg',\n",
       " '/data/KPIs24/KPIs24 Training Data/Task1_patch_level/data/56Nx/12_116/img/56Nx_12_116_125_11264_6144_img.jpg']"
      ]
     },
     "execution_count": 13,
     "metadata": {},
     "output_type": "execute_result"
    }
   ],
   "source": [
    "images"
   ]
  },
  {
   "cell_type": "code",
   "execution_count": 15,
   "metadata": {},
   "outputs": [],
   "source": [
    "train_data = [{'img': img, 'label': label} for img, label in zip(images, labels)]"
   ]
  },
  {
   "cell_type": "code",
   "execution_count": 17,
   "metadata": {},
   "outputs": [],
   "source": [
    "def show_image(image, label, points=None):\n",
    "    print(f\"Image: {image.shape}; Label: {label.shape}\")\n",
    "\n",
    "    if image.shape[0] == 3:\n",
    "        image = np.moveaxis(image, 0, 2)\n",
    "        label = np.moveaxis(label, 0, 2)\n",
    "\n",
    "    plt.figure(\"check\", (12, 6))\n",
    "    plt.subplot(1, 2, 1)\n",
    "    plt.title(\"image\")\n",
    "    plt.imshow(image, cmap=\"gray\")\n",
    "\n",
    "    if label is not None:\n",
    "        masked = np.ma.masked_where(label == 0, label)\n",
    "        plt.imshow(masked, \"jet\", interpolation=\"none\", alpha=0.5)\n",
    "\n",
    "    plt.colorbar()\n",
    "\n",
    "    if label is not None:\n",
    "        plt.subplot(1, 2, 2)\n",
    "        plt.title(\"label\")\n",
    "        plt.imshow(label > 0)\n",
    "        plt.colorbar()\n",
    "    # plt.show()"
   ]
  },
  {
   "cell_type": "code",
   "execution_count": null,
   "metadata": {},
   "outputs": [],
   "source": [
    "train_transforms = Compose(\n",
    "        [\n",
    "        LoadImaged(keys=[\"img\", \"label\"], dtype=torch.uint8),\n",
    "        EnsureChannelFirstd(keys=[\"img\"], channel_dim=-1),\n",
    "        EnsureChannelFirstd(keys=[\"label\"], channel_dim='no_channel'),\n",
    "        SplitLabelMined(keys=\"label\"),\n",
    "        ScaleIntensityRangeD(keys=(\"img\", \"label\"), a_min=0.0, a_max=255.0, b_min=0, b_max=1.0),    \n",
    "        SelectItemsd(keys=(\"img\", \"label\")),\n",
    "        ]\n",
    "    )\n",
    "\n",
    "for i in range(1):\n",
    "    data = train_transforms(train_data[i])\n",
    "    plt.figure()\n",
    "    plt.imshow(data['label'].squeeze(), cmap = plt.cm.gray)\n",
    "    # plt.figure()\n",
    "    # plt.imshow(data['others'].squeeze(), cmap='jet')\n",
    "    # plt.colorbar()"
   ]
  },
  {
   "cell_type": "code",
   "execution_count": 25,
   "metadata": {},
   "outputs": [
    {
     "data": {
      "image/png": "[encoded data removed]",
      "text/plain": [
       "<Figure size 640x480 with 1 Axes>"
      ]
     },
     "metadata": {},
     "output_type": "display_data"
    }
   ],
   "source": [
    "train_transforms = Compose(\n",
    "        [\n",
    "        LoadImaged(keys=[\"img\", \"label\"], dtype=torch.uint8),\n",
    "        EnsureChannelFirstd(keys=[\"img\"], channel_dim=-1),\n",
    "        EnsureChannelFirstd(keys=[\"label\"], channel_dim='no_channel'),\n",
    "        SplitLabelMined(keys=\"label\"),\n",
    "        RandCropByPosNegLabeld(\n",
    "            keys=[\"img\", \"label\"], label_key=\"label\", spatial_size= cfg['preprocessing']['roi_size'], pos=3, neg=1, num_samples=4\n",
    "        ),\n",
    "        ScaleIntensityRangeD(keys=(\"img\", \"label\"), a_min=0.0, a_max=255.0, b_min=0, b_max=1.0),    \n",
    "        SelectItemsd(keys=(\"img\", \"label\")),\n",
    "        ]\n",
    "    )\n",
    "\n",
    "for i in range(1):\n",
    "    data = train_transforms(train_data[i])\n",
    "    plt.figure()\n",
    "    plt.imshow(data['label'].squeeze(), cmap = plt.cm.gray)\n",
    "    # plt.figure()\n",
    "    # plt.imshow(data['others'].squeeze(), cmap='jet')\n",
    "    # plt.colorbar()"
   ]
  }
 ],
 "metadata": {
  "kernelspec": {
   "display_name": "nefrobit",
   "language": "python",
   "name": "python3"
  },
  "language_info": {
   "codemirror_mode": {
    "name": "ipython",
    "version": 3
   },
   "file_extension": ".py",
   "mimetype": "text/x-python",
   "name": "python",
   "nbconvert_exporter": "python",
   "pygments_lexer": "ipython3",
   "version": "3.9.19"
  }
 },
 "nbformat": 4,
 "nbformat_minor": 2
}
