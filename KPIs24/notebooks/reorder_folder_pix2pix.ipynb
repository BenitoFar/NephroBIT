{
 "cells": [
  {
   "cell_type": "code",
   "execution_count": 12,
   "metadata": {},
   "outputs": [],
   "source": [
    "import os\n",
    "import shutil\n",
    "from glob import glob\n",
    "import cv2\n",
    "\n",
    "def rearrange_files(source_folder, destination_folder):\n",
    "    for root, dirs, files in os.walk(source_folder):\n",
    "        relative_path = os.path.relpath(root, source_folder)\n",
    "        destination_path = os.path.join(destination_folder, relative_path)\n",
    "        os.makedirs(destination_path, exist_ok=True)\n",
    "\n",
    "def move_files(source_folder):\n",
    "    destination_folder = source_folder\n",
    "    for root, dirs, files in os.walk(source_folder):\n",
    "        relative_path = os.path.relpath(root, source_folder)\n",
    "        destination_path = os.path.join(destination_folder, relative_path)\n",
    "        os.makedirs(destination_path, exist_ok=True)\n",
    "        for file in files:\n",
    "            source_file = os.path.join(root, file)\n",
    "            destination_file = os.path.join(destination_path, file)\n",
    "            shutil.move(source_file, destination_file)\n",
    "            print(f'Moved {source_file} to {destination_file}')\n",
    "            \n",
    "def move_files(source_folder, destination_folder):\n",
    "    for root, dirs, files in os.walk(source_folder):\n",
    "        relative_path = os.path.relpath(root, source_folder)\n",
    "        destination_path = os.path.join(destination_folder, relative_path)\n",
    "        os.makedirs(destination_path, exist_ok=True)\n",
    "#source_folder = 'source_folder'\n"
   ]
  },
  {
   "cell_type": "code",
   "execution_count": 13,
   "metadata": {},
   "outputs": [],
   "source": [
    "reference_folder = \"/mnt/atlas/data_KPIs/data/KPIs24_Training_Data/Task1_patch_level/train/\"\n",
    "source_folder = \"/mnt/atlas/data_KPIs/data/KPIs24_Training_Data/Task1_patch_level/pix2pix_data_augmentation/large_patches/\"\n",
    "destination_folder = \"/mnt/atlas/data_KPIs/data/KPIs24_Training_Data/Task1_patch_level/pix2pix_data_augmentation_rearranged/\"\n"
   ]
  },
  {
   "cell_type": "code",
   "execution_count": 14,
   "metadata": {},
   "outputs": [],
   "source": [
    "# #add information about what pix2pix model was used to generate the images (one model for each class)\n",
    "# for root, dirs, files in os.walk(source_folder):\n",
    "#     relative_path = os.path.relpath(root, source_folder)\n",
    "#     for file in files:\n",
    "#         # print(os.path.join(root, file), os.path.join(root, 'pix2pix_' + root.split('/')[-2] + '_' +  file))\n",
    "#         shutil.move(os.path.join(root, file), os.path.join(root, 'pix2pix_' + root.split('/')[-2] + '_' +  file))"
   ]
  },
  {
   "cell_type": "code",
   "execution_count": 15,
   "metadata": {},
   "outputs": [],
   "source": [
    "rearrange_files(reference_folder, destination_folder)"
   ]
  },
  {
   "cell_type": "code",
   "execution_count": 16,
   "metadata": {},
   "outputs": [],
   "source": [
    "images = sorted(glob(os.path.join(source_folder, \"**/*img*\"), recursive=True)) #sorted(glob(os.path.join(datadir, \"**/*img.jpg\"), recursive=True))\n",
    "masks = sorted(glob(os.path.join(source_folder, \"**/*mask*\"), recursive = True)) #sorted(glob(os.path.join(datadir, \"**/*mask.jpg\"), recursive = True))"
   ]
  },
  {
   "cell_type": "code",
   "execution_count": 17,
   "metadata": {},
   "outputs": [
    {
     "data": {
      "text/plain": [
       "4774"
      ]
     },
     "execution_count": 17,
     "metadata": {},
     "output_type": "execute_result"
    }
   ],
   "source": [
    "len(masks)"
   ]
  },
  {
   "cell_type": "code",
   "execution_count": 18,
   "metadata": {},
   "outputs": [],
   "source": [
    "#remove all elements that are not files (directories)\n",
    "images = [x for x in images if os.path.isfile(x)]\n",
    "masks = [x for x in masks if os.path.isfile(x)]"
   ]
  },
  {
   "cell_type": "code",
   "execution_count": 19,
   "metadata": {},
   "outputs": [],
   "source": [
    "img_case_id_folders = [root for root, dirs, files in os.walk(destination_folder) if 'img' in root]\n",
    "mask_case_id_folders = [root for root, dirs, files in os.walk(destination_folder) if 'mask' in root]"
   ]
  },
  {
   "cell_type": "code",
   "execution_count": 20,
   "metadata": {},
   "outputs": [],
   "source": [
    "id_cases = [f.split('/')[-2] for f in img_case_id_folders]"
   ]
  },
  {
   "cell_type": "code",
   "execution_count": 21,
   "metadata": {},
   "outputs": [
    {
     "data": {
      "text/plain": [
       "4773"
      ]
     },
     "execution_count": 21,
     "metadata": {},
     "output_type": "execute_result"
    }
   ],
   "source": [
    "len(images)"
   ]
  },
  {
   "cell_type": "code",
   "execution_count": 25,
   "metadata": {},
   "outputs": [
    {
     "name": "stdout",
     "output_type": "stream",
     "text": [
      "Alrady renamed /mnt/atlas/data_KPIs/data/KPIs24_Training_Data/Task1_patch_level/pix2pix_data_augmentation/large_patches/56Nx/mask/pix2pix_56Nx_11-356_111_11264_5120_mask.png\n",
      "Number of masks copied: 4773\n"
     ]
    }
   ],
   "source": [
    "# c = 0\n",
    "# for img in images:\n",
    "#     #rename the file replacing '-' with '_'\n",
    "#     os.rename(img, img.replace('-', '_'))\n",
    "#     img_name = img.split('/')[-1].replace('-', '_')\n",
    "#     to_copy = [x for x in id_cases if x + '_' in img_name] \n",
    "#     if len(to_copy) > 1:\n",
    "#         raise Exception (f'Error: {img_name} in more than one folder')\n",
    "#     else: \n",
    "#         #retrive folder of the case that is in to_copy\n",
    "#         folder = [x for x in img_case_id_folders if to_copy[0] in x][0]\n",
    "#         # print(f'copy {img} to {folder}')\n",
    "#         shutil.copy(img.replace('-', '_'), os.path.join(folder, img_name))\n",
    "#         c = c + 1\n",
    "# print(f'Number of images copied: {c}')\n",
    "\n",
    "c = 0\n",
    "\n",
    "for mask in masks:\n",
    "    try:\n",
    "        os.rename(mask, mask.replace('-', '_'))\n",
    "    except:\n",
    "        print(f'Already renamed {mask}')\n",
    "    #check if name file is in the format X-X instead of X_X\n",
    "    mask_name = mask.split('/')[-1].replace('-', '_')\n",
    "    to_copy = [x for x in id_cases if x + '_' in mask_name]\n",
    "    if len(to_copy) > 1:\n",
    "        raise Exception (f'Error: {mask_name} in more than one folder')\n",
    "    else:\n",
    "        folder = [x for x in mask_case_id_folders if to_copy[0] in x][0]\n",
    "        #if mask has 3 channels, convert to 1 channel\n",
    "        if cv2.imread(mask.replace('-', '_')).shape[-1] == 3:\n",
    "            mask_array = cv2.imread(mask.replace('-', '_'))\n",
    "            mask_array = cv2.cvtColor(mask_array, cv2.COLOR_RGB2GRAY)\n",
    "            #assert that data mask array shape is 2048x2048 with 1 channel\n",
    "            assert mask_array.shape == (2048, 2048), f'Error: mask array shape is {mask_array.shape} instead of (2048,2048)'\n",
    "            cv2.imwrite(os.path.join(folder, mask_name), mask_array)\n",
    "        else:\n",
    "            shutil.copy(mask.replace('-', '_'), folder)\n",
    "        c = c + 1\n",
    "print(f'Number of masks copied: {c}')"
   ]
  },
  {
   "cell_type": "code",
   "execution_count": null,
   "metadata": {},
   "outputs": [],
   "source": []
  },
  {
   "cell_type": "code",
   "execution_count": null,
   "metadata": {},
   "outputs": [],
   "source": []
  }
 ],
 "metadata": {
  "kernelspec": {
   "display_name": "nefrobit",
   "language": "python",
   "name": "python3"
  },
  "language_info": {
   "codemirror_mode": {
    "name": "ipython",
    "version": 3
   },
   "file_extension": ".py",
   "mimetype": "text/x-python",
   "name": "python",
   "nbconvert_exporter": "python",
   "pygments_lexer": "ipython3",
   "version": "3.9.19"
  }
 },
 "nbformat": 4,
 "nbformat_minor": 2
}
